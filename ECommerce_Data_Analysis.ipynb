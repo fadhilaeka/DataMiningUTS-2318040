{
  "nbformat": 4,
  "nbformat_minor": 0,
  "metadata": {
    "colab": {
      "provenance": [],
      "toc_visible": true
    },
    "kernelspec": {
      "name": "python3",
      "display_name": "Python 3"
    },
    "language_info": {
      "name": "python"
    }
  },
  "cells": [
    {
      "cell_type": "markdown",
      "source": [
        "**User Dataset (gdrive) :**\n",
        "1. Transaksi : https://drive.google.com/file/d/1abtknQoyMG30-ccALbkyKd748cKzEyrj/view?usp=drive_link\n",
        "2. Produk : https://drive.google.com/file/d/1ar4-vI1AH65zX_D_b641aKpks_fI4dLp/view?usp=drive_link\n",
        "\n",
        "Resources : https://www.kaggle.com/datasets/mmohaiminulislam/ecommerce-data-analysis?select=item_dim.csv"
      ],
      "metadata": {
        "id": "nDWc8UzAQeo8"
      }
    },
    {
      "cell_type": "markdown",
      "source": [
        "## **Import Library**\n"
      ],
      "metadata": {
        "id": "YAr4JLagZVEW"
      }
    },
    {
      "cell_type": "code",
      "metadata": {
        "id": "893601bc"
      },
      "source": [
        "import pandas as pd\n",
        "import matplotlib.pyplot as plt\n",
        "import seaborn as sns\n",
        "import numpy as np"
      ],
      "execution_count": null,
      "outputs": []
    },
    {
      "cell_type": "markdown",
      "source": [
        "## **Import Dataset**"
      ],
      "metadata": {
        "id": "fwGFc-hGbRAp"
      }
    },
    {
      "cell_type": "markdown",
      "source": [
        "### **1. Transaksi Dataset**"
      ],
      "metadata": {
        "id": "hbsFFLJ-b50l"
      }
    },
    {
      "cell_type": "code",
      "source": [
        "#Import dataset csv format from google drive\n",
        "sheet_url = 'https://drive.google.com/file/d/1abtknQoyMG30-ccALbkyKd748cKzEyrj/view?usp=drive_link' #assign link to a variable\n",
        "sheet_url_replace = 'https://drive.google.com/uc?id=' + sheet_url.split('/')[-2] #replace the link\n",
        "\n",
        "print(sheet_url_replace)\n",
        "\n",
        "df_retail_stores_og = pd.read_csv(sheet_url_replace) #Import/read the csv file into pandas dataframe\n",
        "df_retail_stores_og.head()"
      ],
      "metadata": {
        "colab": {
          "base_uri": "https://localhost:8080/",
          "height": 243
        },
        "id": "89nsg-UHb2zs",
        "outputId": "4746ff51-bb92-44ac-f4bb-dfc26412b17d"
      },
      "execution_count": null,
      "outputs": [
        {
          "output_type": "stream",
          "name": "stdout",
          "text": [
            "https://drive.google.com/uc?id=1abtknQoyMG30-ccALbkyKd748cKzEyrj\n"
          ]
        },
        {
          "output_type": "execute_result",
          "data": {
            "text/plain": [
              "  payment_key coustomer_key time_key item_key store_key  quantity   unit  \\\n",
              "0        P026       C004510  T049189   I00177    S00307         1     ct   \n",
              "1        P022       C008967  T041209   I00248    S00595         1  rolls   \n",
              "2        P030       C007261   T03633   I00195    S00496         8     ct   \n",
              "3        P032       C007048  T084631   I00131     S0086         8     ct   \n",
              "4        P014       C006430  T071276   I00050    S00488         8   cans   \n",
              "\n",
              "   unit_price  total_price  \n",
              "0        35.0         35.0  \n",
              "1        26.0         26.0  \n",
              "2        12.5        100.0  \n",
              "3        14.0        112.0  \n",
              "4         8.0         64.0  "
            ],
            "text/html": [
              "\n",
              "  <div id=\"df-6535a386-37b1-410c-961e-cc9cbf0c0da1\" class=\"colab-df-container\">\n",
              "    <div>\n",
              "<style scoped>\n",
              "    .dataframe tbody tr th:only-of-type {\n",
              "        vertical-align: middle;\n",
              "    }\n",
              "\n",
              "    .dataframe tbody tr th {\n",
              "        vertical-align: top;\n",
              "    }\n",
              "\n",
              "    .dataframe thead th {\n",
              "        text-align: right;\n",
              "    }\n",
              "</style>\n",
              "<table border=\"1\" class=\"dataframe\">\n",
              "  <thead>\n",
              "    <tr style=\"text-align: right;\">\n",
              "      <th></th>\n",
              "      <th>payment_key</th>\n",
              "      <th>coustomer_key</th>\n",
              "      <th>time_key</th>\n",
              "      <th>item_key</th>\n",
              "      <th>store_key</th>\n",
              "      <th>quantity</th>\n",
              "      <th>unit</th>\n",
              "      <th>unit_price</th>\n",
              "      <th>total_price</th>\n",
              "    </tr>\n",
              "  </thead>\n",
              "  <tbody>\n",
              "    <tr>\n",
              "      <th>0</th>\n",
              "      <td>P026</td>\n",
              "      <td>C004510</td>\n",
              "      <td>T049189</td>\n",
              "      <td>I00177</td>\n",
              "      <td>S00307</td>\n",
              "      <td>1</td>\n",
              "      <td>ct</td>\n",
              "      <td>35.0</td>\n",
              "      <td>35.0</td>\n",
              "    </tr>\n",
              "    <tr>\n",
              "      <th>1</th>\n",
              "      <td>P022</td>\n",
              "      <td>C008967</td>\n",
              "      <td>T041209</td>\n",
              "      <td>I00248</td>\n",
              "      <td>S00595</td>\n",
              "      <td>1</td>\n",
              "      <td>rolls</td>\n",
              "      <td>26.0</td>\n",
              "      <td>26.0</td>\n",
              "    </tr>\n",
              "    <tr>\n",
              "      <th>2</th>\n",
              "      <td>P030</td>\n",
              "      <td>C007261</td>\n",
              "      <td>T03633</td>\n",
              "      <td>I00195</td>\n",
              "      <td>S00496</td>\n",
              "      <td>8</td>\n",
              "      <td>ct</td>\n",
              "      <td>12.5</td>\n",
              "      <td>100.0</td>\n",
              "    </tr>\n",
              "    <tr>\n",
              "      <th>3</th>\n",
              "      <td>P032</td>\n",
              "      <td>C007048</td>\n",
              "      <td>T084631</td>\n",
              "      <td>I00131</td>\n",
              "      <td>S0086</td>\n",
              "      <td>8</td>\n",
              "      <td>ct</td>\n",
              "      <td>14.0</td>\n",
              "      <td>112.0</td>\n",
              "    </tr>\n",
              "    <tr>\n",
              "      <th>4</th>\n",
              "      <td>P014</td>\n",
              "      <td>C006430</td>\n",
              "      <td>T071276</td>\n",
              "      <td>I00050</td>\n",
              "      <td>S00488</td>\n",
              "      <td>8</td>\n",
              "      <td>cans</td>\n",
              "      <td>8.0</td>\n",
              "      <td>64.0</td>\n",
              "    </tr>\n",
              "  </tbody>\n",
              "</table>\n",
              "</div>\n",
              "    <div class=\"colab-df-buttons\">\n",
              "\n",
              "  <div class=\"colab-df-container\">\n",
              "    <button class=\"colab-df-convert\" onclick=\"convertToInteractive('df-6535a386-37b1-410c-961e-cc9cbf0c0da1')\"\n",
              "            title=\"Convert this dataframe to an interactive table.\"\n",
              "            style=\"display:none;\">\n",
              "\n",
              "  <svg xmlns=\"http://www.w3.org/2000/svg\" height=\"24px\" viewBox=\"0 -960 960 960\">\n",
              "    <path d=\"M120-120v-720h720v720H120Zm60-500h600v-160H180v160Zm220 220h160v-160H400v160Zm0 220h160v-160H400v160ZM180-400h160v-160H180v160Zm440 0h160v-160H620v160ZM180-180h160v-160H180v160Zm440 0h160v-160H620v160Z\"/>\n",
              "  </svg>\n",
              "    </button>\n",
              "\n",
              "  <style>\n",
              "    .colab-df-container {\n",
              "      display:flex;\n",
              "      gap: 12px;\n",
              "    }\n",
              "\n",
              "    .colab-df-convert {\n",
              "      background-color: #E8F0FE;\n",
              "      border: none;\n",
              "      border-radius: 50%;\n",
              "      cursor: pointer;\n",
              "      display: none;\n",
              "      fill: #1967D2;\n",
              "      height: 32px;\n",
              "      padding: 0 0 0 0;\n",
              "      width: 32px;\n",
              "    }\n",
              "\n",
              "    .colab-df-convert:hover {\n",
              "      background-color: #E2EBFA;\n",
              "      box-shadow: 0px 1px 2px rgba(60, 64, 67, 0.3), 0px 1px 3px 1px rgba(60, 64, 67, 0.15);\n",
              "      fill: #174EA6;\n",
              "    }\n",
              "\n",
              "    .colab-df-buttons div {\n",
              "      margin-bottom: 4px;\n",
              "    }\n",
              "\n",
              "    [theme=dark] .colab-df-convert {\n",
              "      background-color: #3B4455;\n",
              "      fill: #D2E3FC;\n",
              "    }\n",
              "\n",
              "    [theme=dark] .colab-df-convert:hover {\n",
              "      background-color: #434B5C;\n",
              "      box-shadow: 0px 1px 3px 1px rgba(0, 0, 0, 0.15);\n",
              "      filter: drop-shadow(0px 1px 2px rgba(0, 0, 0, 0.3));\n",
              "      fill: #FFFFFF;\n",
              "    }\n",
              "  </style>\n",
              "\n",
              "    <script>\n",
              "      const buttonEl =\n",
              "        document.querySelector('#df-6535a386-37b1-410c-961e-cc9cbf0c0da1 button.colab-df-convert');\n",
              "      buttonEl.style.display =\n",
              "        google.colab.kernel.accessAllowed ? 'block' : 'none';\n",
              "\n",
              "      async function convertToInteractive(key) {\n",
              "        const element = document.querySelector('#df-6535a386-37b1-410c-961e-cc9cbf0c0da1');\n",
              "        const dataTable =\n",
              "          await google.colab.kernel.invokeFunction('convertToInteractive',\n",
              "                                                    [key], {});\n",
              "        if (!dataTable) return;\n",
              "\n",
              "        const docLinkHtml = 'Like what you see? Visit the ' +\n",
              "          '<a target=\"_blank\" href=https://colab.research.google.com/notebooks/data_table.ipynb>data table notebook</a>'\n",
              "          + ' to learn more about interactive tables.';\n",
              "        element.innerHTML = '';\n",
              "        dataTable['output_type'] = 'display_data';\n",
              "        await google.colab.output.renderOutput(dataTable, element);\n",
              "        const docLink = document.createElement('div');\n",
              "        docLink.innerHTML = docLinkHtml;\n",
              "        element.appendChild(docLink);\n",
              "      }\n",
              "    </script>\n",
              "  </div>\n",
              "\n",
              "\n",
              "    <div id=\"df-45511cf1-a77a-432f-9cb9-e9e04f7b250f\">\n",
              "      <button class=\"colab-df-quickchart\" onclick=\"quickchart('df-45511cf1-a77a-432f-9cb9-e9e04f7b250f')\"\n",
              "                title=\"Suggest charts\"\n",
              "                style=\"display:none;\">\n",
              "\n",
              "<svg xmlns=\"http://www.w3.org/2000/svg\" height=\"24px\"viewBox=\"0 0 24 24\"\n",
              "     width=\"24px\">\n",
              "    <g>\n",
              "        <path d=\"M19 3H5c-1.1 0-2 .9-2 2v14c0 1.1.9 2 2 2h14c1.1 0 2-.9 2-2V5c0-1.1-.9-2-2-2zM9 17H7v-7h2v7zm4 0h-2V7h2v10zm4 0h-2v-4h2v4z\"/>\n",
              "    </g>\n",
              "</svg>\n",
              "      </button>\n",
              "\n",
              "<style>\n",
              "  .colab-df-quickchart {\n",
              "      --bg-color: #E8F0FE;\n",
              "      --fill-color: #1967D2;\n",
              "      --hover-bg-color: #E2EBFA;\n",
              "      --hover-fill-color: #174EA6;\n",
              "      --disabled-fill-color: #AAA;\n",
              "      --disabled-bg-color: #DDD;\n",
              "  }\n",
              "\n",
              "  [theme=dark] .colab-df-quickchart {\n",
              "      --bg-color: #3B4455;\n",
              "      --fill-color: #D2E3FC;\n",
              "      --hover-bg-color: #434B5C;\n",
              "      --hover-fill-color: #FFFFFF;\n",
              "      --disabled-bg-color: #3B4455;\n",
              "      --disabled-fill-color: #666;\n",
              "  }\n",
              "\n",
              "  .colab-df-quickchart {\n",
              "    background-color: var(--bg-color);\n",
              "    border: none;\n",
              "    border-radius: 50%;\n",
              "    cursor: pointer;\n",
              "    display: none;\n",
              "    fill: var(--fill-color);\n",
              "    height: 32px;\n",
              "    padding: 0;\n",
              "    width: 32px;\n",
              "  }\n",
              "\n",
              "  .colab-df-quickchart:hover {\n",
              "    background-color: var(--hover-bg-color);\n",
              "    box-shadow: 0 1px 2px rgba(60, 64, 67, 0.3), 0 1px 3px 1px rgba(60, 64, 67, 0.15);\n",
              "    fill: var(--button-hover-fill-color);\n",
              "  }\n",
              "\n",
              "  .colab-df-quickchart-complete:disabled,\n",
              "  .colab-df-quickchart-complete:disabled:hover {\n",
              "    background-color: var(--disabled-bg-color);\n",
              "    fill: var(--disabled-fill-color);\n",
              "    box-shadow: none;\n",
              "  }\n",
              "\n",
              "  .colab-df-spinner {\n",
              "    border: 2px solid var(--fill-color);\n",
              "    border-color: transparent;\n",
              "    border-bottom-color: var(--fill-color);\n",
              "    animation:\n",
              "      spin 1s steps(1) infinite;\n",
              "  }\n",
              "\n",
              "  @keyframes spin {\n",
              "    0% {\n",
              "      border-color: transparent;\n",
              "      border-bottom-color: var(--fill-color);\n",
              "      border-left-color: var(--fill-color);\n",
              "    }\n",
              "    20% {\n",
              "      border-color: transparent;\n",
              "      border-left-color: var(--fill-color);\n",
              "      border-top-color: var(--fill-color);\n",
              "    }\n",
              "    30% {\n",
              "      border-color: transparent;\n",
              "      border-left-color: var(--fill-color);\n",
              "      border-top-color: var(--fill-color);\n",
              "      border-right-color: var(--fill-color);\n",
              "    }\n",
              "    40% {\n",
              "      border-color: transparent;\n",
              "      border-right-color: var(--fill-color);\n",
              "      border-top-color: var(--fill-color);\n",
              "    }\n",
              "    60% {\n",
              "      border-color: transparent;\n",
              "      border-right-color: var(--fill-color);\n",
              "    }\n",
              "    80% {\n",
              "      border-color: transparent;\n",
              "      border-right-color: var(--fill-color);\n",
              "      border-bottom-color: var(--fill-color);\n",
              "    }\n",
              "    90% {\n",
              "      border-color: transparent;\n",
              "      border-bottom-color: var(--fill-color);\n",
              "    }\n",
              "  }\n",
              "</style>\n",
              "\n",
              "      <script>\n",
              "        async function quickchart(key) {\n",
              "          const quickchartButtonEl =\n",
              "            document.querySelector('#' + key + ' button');\n",
              "          quickchartButtonEl.disabled = true;  // To prevent multiple clicks.\n",
              "          quickchartButtonEl.classList.add('colab-df-spinner');\n",
              "          try {\n",
              "            const charts = await google.colab.kernel.invokeFunction(\n",
              "                'suggestCharts', [key], {});\n",
              "          } catch (error) {\n",
              "            console.error('Error during call to suggestCharts:', error);\n",
              "          }\n",
              "          quickchartButtonEl.classList.remove('colab-df-spinner');\n",
              "          quickchartButtonEl.classList.add('colab-df-quickchart-complete');\n",
              "        }\n",
              "        (() => {\n",
              "          let quickchartButtonEl =\n",
              "            document.querySelector('#df-45511cf1-a77a-432f-9cb9-e9e04f7b250f button');\n",
              "          quickchartButtonEl.style.display =\n",
              "            google.colab.kernel.accessAllowed ? 'block' : 'none';\n",
              "        })();\n",
              "      </script>\n",
              "    </div>\n",
              "\n",
              "    </div>\n",
              "  </div>\n"
            ],
            "application/vnd.google.colaboratory.intrinsic+json": {
              "type": "dataframe",
              "variable_name": "df_retail_stores_og"
            }
          },
          "metadata": {},
          "execution_count": 8
        }
      ]
    },
    {
      "cell_type": "markdown",
      "source": [
        "### **2. Produk Dataset**"
      ],
      "metadata": {
        "id": "YV7WH4FcdXrd"
      }
    },
    {
      "cell_type": "code",
      "source": [
        "#Import dataset csv format from google drive\n",
        "sheet_url = 'https://drive.google.com/file/d/1ar4-vI1AH65zX_D_b641aKpks_fI4dLp/view?usp=drive_link' #assign link to a variable\n",
        "sheet_url_replace = 'https://drive.google.com/uc?id=' + sheet_url.split('/')[-2] #replace the link\n",
        "\n",
        "print(sheet_url_replace)\n",
        "\n",
        "df_retail_stores_og = pd.read_csv(sheet_url_replace) #Import/read the csv file into pandas dataframe\n",
        "df_retail_stores_og.head()"
      ],
      "metadata": {
        "colab": {
          "base_uri": "https://localhost:8080/",
          "height": 223
        },
        "id": "VmpidCa3dkI1",
        "outputId": "e4d68f03-1aaf-45cd-8d04-2e733e1c541c"
      },
      "execution_count": null,
      "outputs": [
        {
          "output_type": "stream",
          "name": "stdout",
          "text": [
            "https://drive.google.com/uc?id=1ar4-vI1AH65zX_D_b641aKpks_fI4dLp\n"
          ]
        },
        {
          "output_type": "execute_result",
          "data": {
            "text/plain": [
              "  time_key              date  hour  day      week  month quarter  year\n",
              "0   T00001  20-05-2017 14:56    14   20  3rd Week      5      Q2  2017\n",
              "1   T00002  30-01-2015 22:14    22   30  4th Week      1      Q1  2015\n",
              "2   T00003  14-03-2020 02:34     2   14  2nd Week      3      Q1  2020\n",
              "3   T00004  27-04-2018 12:19    12   27  4th Week      4      Q2  2018\n",
              "4   T00005  14-04-2018 10:43    10   14  2nd Week      4      Q2  2018"
            ],
            "text/html": [
              "\n",
              "  <div id=\"df-c6bc158d-29dd-4913-b7a8-e1014f82b44a\" class=\"colab-df-container\">\n",
              "    <div>\n",
              "<style scoped>\n",
              "    .dataframe tbody tr th:only-of-type {\n",
              "        vertical-align: middle;\n",
              "    }\n",
              "\n",
              "    .dataframe tbody tr th {\n",
              "        vertical-align: top;\n",
              "    }\n",
              "\n",
              "    .dataframe thead th {\n",
              "        text-align: right;\n",
              "    }\n",
              "</style>\n",
              "<table border=\"1\" class=\"dataframe\">\n",
              "  <thead>\n",
              "    <tr style=\"text-align: right;\">\n",
              "      <th></th>\n",
              "      <th>time_key</th>\n",
              "      <th>date</th>\n",
              "      <th>hour</th>\n",
              "      <th>day</th>\n",
              "      <th>week</th>\n",
              "      <th>month</th>\n",
              "      <th>quarter</th>\n",
              "      <th>year</th>\n",
              "    </tr>\n",
              "  </thead>\n",
              "  <tbody>\n",
              "    <tr>\n",
              "      <th>0</th>\n",
              "      <td>T00001</td>\n",
              "      <td>20-05-2017 14:56</td>\n",
              "      <td>14</td>\n",
              "      <td>20</td>\n",
              "      <td>3rd Week</td>\n",
              "      <td>5</td>\n",
              "      <td>Q2</td>\n",
              "      <td>2017</td>\n",
              "    </tr>\n",
              "    <tr>\n",
              "      <th>1</th>\n",
              "      <td>T00002</td>\n",
              "      <td>30-01-2015 22:14</td>\n",
              "      <td>22</td>\n",
              "      <td>30</td>\n",
              "      <td>4th Week</td>\n",
              "      <td>1</td>\n",
              "      <td>Q1</td>\n",
              "      <td>2015</td>\n",
              "    </tr>\n",
              "    <tr>\n",
              "      <th>2</th>\n",
              "      <td>T00003</td>\n",
              "      <td>14-03-2020 02:34</td>\n",
              "      <td>2</td>\n",
              "      <td>14</td>\n",
              "      <td>2nd Week</td>\n",
              "      <td>3</td>\n",
              "      <td>Q1</td>\n",
              "      <td>2020</td>\n",
              "    </tr>\n",
              "    <tr>\n",
              "      <th>3</th>\n",
              "      <td>T00004</td>\n",
              "      <td>27-04-2018 12:19</td>\n",
              "      <td>12</td>\n",
              "      <td>27</td>\n",
              "      <td>4th Week</td>\n",
              "      <td>4</td>\n",
              "      <td>Q2</td>\n",
              "      <td>2018</td>\n",
              "    </tr>\n",
              "    <tr>\n",
              "      <th>4</th>\n",
              "      <td>T00005</td>\n",
              "      <td>14-04-2018 10:43</td>\n",
              "      <td>10</td>\n",
              "      <td>14</td>\n",
              "      <td>2nd Week</td>\n",
              "      <td>4</td>\n",
              "      <td>Q2</td>\n",
              "      <td>2018</td>\n",
              "    </tr>\n",
              "  </tbody>\n",
              "</table>\n",
              "</div>\n",
              "    <div class=\"colab-df-buttons\">\n",
              "\n",
              "  <div class=\"colab-df-container\">\n",
              "    <button class=\"colab-df-convert\" onclick=\"convertToInteractive('df-c6bc158d-29dd-4913-b7a8-e1014f82b44a')\"\n",
              "            title=\"Convert this dataframe to an interactive table.\"\n",
              "            style=\"display:none;\">\n",
              "\n",
              "  <svg xmlns=\"http://www.w3.org/2000/svg\" height=\"24px\" viewBox=\"0 -960 960 960\">\n",
              "    <path d=\"M120-120v-720h720v720H120Zm60-500h600v-160H180v160Zm220 220h160v-160H400v160Zm0 220h160v-160H400v160ZM180-400h160v-160H180v160Zm440 0h160v-160H620v160ZM180-180h160v-160H180v160Zm440 0h160v-160H620v160Z\"/>\n",
              "  </svg>\n",
              "    </button>\n",
              "\n",
              "  <style>\n",
              "    .colab-df-container {\n",
              "      display:flex;\n",
              "      gap: 12px;\n",
              "    }\n",
              "\n",
              "    .colab-df-convert {\n",
              "      background-color: #E8F0FE;\n",
              "      border: none;\n",
              "      border-radius: 50%;\n",
              "      cursor: pointer;\n",
              "      display: none;\n",
              "      fill: #1967D2;\n",
              "      height: 32px;\n",
              "      padding: 0 0 0 0;\n",
              "      width: 32px;\n",
              "    }\n",
              "\n",
              "    .colab-df-convert:hover {\n",
              "      background-color: #E2EBFA;\n",
              "      box-shadow: 0px 1px 2px rgba(60, 64, 67, 0.3), 0px 1px 3px 1px rgba(60, 64, 67, 0.15);\n",
              "      fill: #174EA6;\n",
              "    }\n",
              "\n",
              "    .colab-df-buttons div {\n",
              "      margin-bottom: 4px;\n",
              "    }\n",
              "\n",
              "    [theme=dark] .colab-df-convert {\n",
              "      background-color: #3B4455;\n",
              "      fill: #D2E3FC;\n",
              "    }\n",
              "\n",
              "    [theme=dark] .colab-df-convert:hover {\n",
              "      background-color: #434B5C;\n",
              "      box-shadow: 0px 1px 3px 1px rgba(0, 0, 0, 0.15);\n",
              "      filter: drop-shadow(0px 1px 2px rgba(0, 0, 0, 0.3));\n",
              "      fill: #FFFFFF;\n",
              "    }\n",
              "  </style>\n",
              "\n",
              "    <script>\n",
              "      const buttonEl =\n",
              "        document.querySelector('#df-c6bc158d-29dd-4913-b7a8-e1014f82b44a button.colab-df-convert');\n",
              "      buttonEl.style.display =\n",
              "        google.colab.kernel.accessAllowed ? 'block' : 'none';\n",
              "\n",
              "      async function convertToInteractive(key) {\n",
              "        const element = document.querySelector('#df-c6bc158d-29dd-4913-b7a8-e1014f82b44a');\n",
              "        const dataTable =\n",
              "          await google.colab.kernel.invokeFunction('convertToInteractive',\n",
              "                                                    [key], {});\n",
              "        if (!dataTable) return;\n",
              "\n",
              "        const docLinkHtml = 'Like what you see? Visit the ' +\n",
              "          '<a target=\"_blank\" href=https://colab.research.google.com/notebooks/data_table.ipynb>data table notebook</a>'\n",
              "          + ' to learn more about interactive tables.';\n",
              "        element.innerHTML = '';\n",
              "        dataTable['output_type'] = 'display_data';\n",
              "        await google.colab.output.renderOutput(dataTable, element);\n",
              "        const docLink = document.createElement('div');\n",
              "        docLink.innerHTML = docLinkHtml;\n",
              "        element.appendChild(docLink);\n",
              "      }\n",
              "    </script>\n",
              "  </div>\n",
              "\n",
              "\n",
              "    <div id=\"df-b92cc036-99db-48e6-9e4f-122946c8cbd6\">\n",
              "      <button class=\"colab-df-quickchart\" onclick=\"quickchart('df-b92cc036-99db-48e6-9e4f-122946c8cbd6')\"\n",
              "                title=\"Suggest charts\"\n",
              "                style=\"display:none;\">\n",
              "\n",
              "<svg xmlns=\"http://www.w3.org/2000/svg\" height=\"24px\"viewBox=\"0 0 24 24\"\n",
              "     width=\"24px\">\n",
              "    <g>\n",
              "        <path d=\"M19 3H5c-1.1 0-2 .9-2 2v14c0 1.1.9 2 2 2h14c1.1 0 2-.9 2-2V5c0-1.1-.9-2-2-2zM9 17H7v-7h2v7zm4 0h-2V7h2v10zm4 0h-2v-4h2v4z\"/>\n",
              "    </g>\n",
              "</svg>\n",
              "      </button>\n",
              "\n",
              "<style>\n",
              "  .colab-df-quickchart {\n",
              "      --bg-color: #E8F0FE;\n",
              "      --fill-color: #1967D2;\n",
              "      --hover-bg-color: #E2EBFA;\n",
              "      --hover-fill-color: #174EA6;\n",
              "      --disabled-fill-color: #AAA;\n",
              "      --disabled-bg-color: #DDD;\n",
              "  }\n",
              "\n",
              "  [theme=dark] .colab-df-quickchart {\n",
              "      --bg-color: #3B4455;\n",
              "      --fill-color: #D2E3FC;\n",
              "      --hover-bg-color: #434B5C;\n",
              "      --hover-fill-color: #FFFFFF;\n",
              "      --disabled-bg-color: #3B4455;\n",
              "      --disabled-fill-color: #666;\n",
              "  }\n",
              "\n",
              "  .colab-df-quickchart {\n",
              "    background-color: var(--bg-color);\n",
              "    border: none;\n",
              "    border-radius: 50%;\n",
              "    cursor: pointer;\n",
              "    display: none;\n",
              "    fill: var(--fill-color);\n",
              "    height: 32px;\n",
              "    padding: 0;\n",
              "    width: 32px;\n",
              "  }\n",
              "\n",
              "  .colab-df-quickchart:hover {\n",
              "    background-color: var(--hover-bg-color);\n",
              "    box-shadow: 0 1px 2px rgba(60, 64, 67, 0.3), 0 1px 3px 1px rgba(60, 64, 67, 0.15);\n",
              "    fill: var(--button-hover-fill-color);\n",
              "  }\n",
              "\n",
              "  .colab-df-quickchart-complete:disabled,\n",
              "  .colab-df-quickchart-complete:disabled:hover {\n",
              "    background-color: var(--disabled-bg-color);\n",
              "    fill: var(--disabled-fill-color);\n",
              "    box-shadow: none;\n",
              "  }\n",
              "\n",
              "  .colab-df-spinner {\n",
              "    border: 2px solid var(--fill-color);\n",
              "    border-color: transparent;\n",
              "    border-bottom-color: var(--fill-color);\n",
              "    animation:\n",
              "      spin 1s steps(1) infinite;\n",
              "  }\n",
              "\n",
              "  @keyframes spin {\n",
              "    0% {\n",
              "      border-color: transparent;\n",
              "      border-bottom-color: var(--fill-color);\n",
              "      border-left-color: var(--fill-color);\n",
              "    }\n",
              "    20% {\n",
              "      border-color: transparent;\n",
              "      border-left-color: var(--fill-color);\n",
              "      border-top-color: var(--fill-color);\n",
              "    }\n",
              "    30% {\n",
              "      border-color: transparent;\n",
              "      border-left-color: var(--fill-color);\n",
              "      border-top-color: var(--fill-color);\n",
              "      border-right-color: var(--fill-color);\n",
              "    }\n",
              "    40% {\n",
              "      border-color: transparent;\n",
              "      border-right-color: var(--fill-color);\n",
              "      border-top-color: var(--fill-color);\n",
              "    }\n",
              "    60% {\n",
              "      border-color: transparent;\n",
              "      border-right-color: var(--fill-color);\n",
              "    }\n",
              "    80% {\n",
              "      border-color: transparent;\n",
              "      border-right-color: var(--fill-color);\n",
              "      border-bottom-color: var(--fill-color);\n",
              "    }\n",
              "    90% {\n",
              "      border-color: transparent;\n",
              "      border-bottom-color: var(--fill-color);\n",
              "    }\n",
              "  }\n",
              "</style>\n",
              "\n",
              "      <script>\n",
              "        async function quickchart(key) {\n",
              "          const quickchartButtonEl =\n",
              "            document.querySelector('#' + key + ' button');\n",
              "          quickchartButtonEl.disabled = true;  // To prevent multiple clicks.\n",
              "          quickchartButtonEl.classList.add('colab-df-spinner');\n",
              "          try {\n",
              "            const charts = await google.colab.kernel.invokeFunction(\n",
              "                'suggestCharts', [key], {});\n",
              "          } catch (error) {\n",
              "            console.error('Error during call to suggestCharts:', error);\n",
              "          }\n",
              "          quickchartButtonEl.classList.remove('colab-df-spinner');\n",
              "          quickchartButtonEl.classList.add('colab-df-quickchart-complete');\n",
              "        }\n",
              "        (() => {\n",
              "          let quickchartButtonEl =\n",
              "            document.querySelector('#df-b92cc036-99db-48e6-9e4f-122946c8cbd6 button');\n",
              "          quickchartButtonEl.style.display =\n",
              "            google.colab.kernel.accessAllowed ? 'block' : 'none';\n",
              "        })();\n",
              "      </script>\n",
              "    </div>\n",
              "\n",
              "    </div>\n",
              "  </div>\n"
            ],
            "application/vnd.google.colaboratory.intrinsic+json": {
              "type": "dataframe",
              "variable_name": "df_retail_stores_og",
              "summary": "{\n  \"name\": \"df_retail_stores_og\",\n  \"rows\": 99999,\n  \"fields\": [\n    {\n      \"column\": \"time_key\",\n      \"properties\": {\n        \"dtype\": \"string\",\n        \"num_unique_values\": 99999,\n        \"samples\": [\n          \"T026003\",\n          \"T080421\",\n          \"T019865\"\n        ],\n        \"semantic_type\": \"\",\n        \"description\": \"\"\n      }\n    },\n    {\n      \"column\": \"date\",\n      \"properties\": {\n        \"dtype\": \"object\",\n        \"num_unique_values\": 98578,\n        \"samples\": [\n          \"23-10-2016 13:11\",\n          \"05-07-2017 04:38\",\n          \"07-02-2014 19:31\"\n        ],\n        \"semantic_type\": \"\",\n        \"description\": \"\"\n      }\n    },\n    {\n      \"column\": \"hour\",\n      \"properties\": {\n        \"dtype\": \"number\",\n        \"std\": 6,\n        \"min\": 0,\n        \"max\": 23,\n        \"num_unique_values\": 24,\n        \"samples\": [\n          16,\n          9,\n          14\n        ],\n        \"semantic_type\": \"\",\n        \"description\": \"\"\n      }\n    },\n    {\n      \"column\": \"day\",\n      \"properties\": {\n        \"dtype\": \"number\",\n        \"std\": 8,\n        \"min\": 1,\n        \"max\": 31,\n        \"num_unique_values\": 31,\n        \"samples\": [\n          31,\n          19,\n          18\n        ],\n        \"semantic_type\": \"\",\n        \"description\": \"\"\n      }\n    },\n    {\n      \"column\": \"week\",\n      \"properties\": {\n        \"dtype\": \"category\",\n        \"num_unique_values\": 4,\n        \"samples\": [\n          \"4th Week\",\n          \"1st Week\",\n          \"3rd Week\"\n        ],\n        \"semantic_type\": \"\",\n        \"description\": \"\"\n      }\n    },\n    {\n      \"column\": \"month\",\n      \"properties\": {\n        \"dtype\": \"number\",\n        \"std\": 3,\n        \"min\": 1,\n        \"max\": 12,\n        \"num_unique_values\": 12,\n        \"samples\": [\n          12,\n          7,\n          5\n        ],\n        \"semantic_type\": \"\",\n        \"description\": \"\"\n      }\n    },\n    {\n      \"column\": \"quarter\",\n      \"properties\": {\n        \"dtype\": \"category\",\n        \"num_unique_values\": 4,\n        \"samples\": [\n          \"Q1\",\n          \"Q4\",\n          \"Q2\"\n        ],\n        \"semantic_type\": \"\",\n        \"description\": \"\"\n      }\n    },\n    {\n      \"column\": \"year\",\n      \"properties\": {\n        \"dtype\": \"number\",\n        \"std\": 2,\n        \"min\": 2014,\n        \"max\": 2021,\n        \"num_unique_values\": 8,\n        \"samples\": [\n          2015,\n          2016,\n          2017\n        ],\n        \"semantic_type\": \"\",\n        \"description\": \"\"\n      }\n    }\n  ]\n}"
            }
          },
          "metadata": {},
          "execution_count": 9
        }
      ]
    },
    {
      "cell_type": "markdown",
      "source": [
        "## **Pengecekan Data Awal**"
      ],
      "metadata": {
        "id": "HW-pVEaOe22q"
      }
    },
    {
      "cell_type": "code",
      "source": [
        "print(\"\\n=== 5 Data Awal FACT TABLE ===\")\n",
        "print(fact.head())\n",
        "\n",
        "print(\"\\n=== 5 Data Awal ITEM TABLE ===\")\n",
        "print(item.head())\n",
        "\n",
        "print(\"\\n=== INFO FACT TABLE ===\")\n",
        "print(fact.info())\n",
        "\n",
        "print(\"\\n=== INFO ITEM TABLE ===\")\n",
        "print(item.info())\n",
        "\n",
        "print(\"\\n=== NILAI KOSONG PER KOLOM ===\")\n",
        "print(\"fact_table:\\n\", fact.isnull().sum())\n",
        "print(\"\\nitem_dim:\\n\", item.isnull().sum())\n",
        "\n",
        "print(\"\\n=== CEK DUPLIKAT ===\")\n",
        "print(\"fact_table:\", fact.duplicated().sum())\n",
        "print(\"item_dim:\", item.duplicated().sum())\n"
      ],
      "metadata": {
        "colab": {
          "base_uri": "https://localhost:8080/"
        },
        "id": "d1OhQbgBgflt",
        "outputId": "474f3df6-d25f-4b9d-c488-8c7ef380ffac"
      },
      "execution_count": null,
      "outputs": [
        {
          "output_type": "stream",
          "name": "stdout",
          "text": [
            "\n",
            "=== 5 Data Awal FACT TABLE ===\n",
            "  payment_key coustomer_key time_key item_key store_key  quantity   unit  \\\n",
            "0        P026       C004510  T049189   I00177    S00307         1     ct   \n",
            "1        P022       C008967  T041209   I00248    S00595         1  rolls   \n",
            "2        P030       C007261   T03633   I00195    S00496         8     ct   \n",
            "3        P032       C007048  T084631   I00131     S0086         8     ct   \n",
            "4        P014       C006430  T071276   I00050    S00488         8   cans   \n",
            "\n",
            "   unit_price  total_price  \n",
            "0        35.0         35.0  \n",
            "1        26.0         26.0  \n",
            "2        12.5        100.0  \n",
            "3        14.0        112.0  \n",
            "4         8.0         64.0  \n",
            "\n",
            "=== 5 Data Awal ITEM TABLE ===\n",
            "  time_key              date  hour  day      week  month quarter  year\n",
            "0   T00001  20-05-2017 14:56    14   20  3rd Week      5      Q2  2017\n",
            "1   T00002  30-01-2015 22:14    22   30  4th Week      1      Q1  2015\n",
            "2   T00003  14-03-2020 02:34     2   14  2nd Week      3      Q1  2020\n",
            "3   T00004  27-04-2018 12:19    12   27  4th Week      4      Q2  2018\n",
            "4   T00005  14-04-2018 10:43    10   14  2nd Week      4      Q2  2018\n",
            "\n",
            "=== INFO FACT TABLE ===\n",
            "<class 'pandas.core.frame.DataFrame'>\n",
            "RangeIndex: 1000000 entries, 0 to 999999\n",
            "Data columns (total 9 columns):\n",
            " #   Column         Non-Null Count    Dtype  \n",
            "---  ------         --------------    -----  \n",
            " 0   payment_key    1000000 non-null  object \n",
            " 1   coustomer_key  1000000 non-null  object \n",
            " 2   time_key       1000000 non-null  object \n",
            " 3   item_key       1000000 non-null  object \n",
            " 4   store_key      1000000 non-null  object \n",
            " 5   quantity       1000000 non-null  int64  \n",
            " 6   unit           996277 non-null   object \n",
            " 7   unit_price     1000000 non-null  float64\n",
            " 8   total_price    1000000 non-null  float64\n",
            "dtypes: float64(2), int64(1), object(6)\n",
            "memory usage: 68.7+ MB\n",
            "None\n",
            "\n",
            "=== INFO ITEM TABLE ===\n",
            "<class 'pandas.core.frame.DataFrame'>\n",
            "RangeIndex: 99999 entries, 0 to 99998\n",
            "Data columns (total 8 columns):\n",
            " #   Column    Non-Null Count  Dtype \n",
            "---  ------    --------------  ----- \n",
            " 0   time_key  99999 non-null  object\n",
            " 1   date      99999 non-null  object\n",
            " 2   hour      99999 non-null  int64 \n",
            " 3   day       99999 non-null  int64 \n",
            " 4   week      99999 non-null  object\n",
            " 5   month     99999 non-null  int64 \n",
            " 6   quarter   99999 non-null  object\n",
            " 7   year      99999 non-null  int64 \n",
            "dtypes: int64(4), object(4)\n",
            "memory usage: 6.1+ MB\n",
            "None\n",
            "\n",
            "=== NILAI KOSONG PER KOLOM ===\n",
            "fact_table:\n",
            " payment_key         0\n",
            "coustomer_key       0\n",
            "time_key            0\n",
            "item_key            0\n",
            "store_key           0\n",
            "quantity            0\n",
            "unit             3723\n",
            "unit_price          0\n",
            "total_price         0\n",
            "dtype: int64\n",
            "\n",
            "item_dim:\n",
            " time_key    0\n",
            "date        0\n",
            "hour        0\n",
            "day         0\n",
            "week        0\n",
            "month       0\n",
            "quarter     0\n",
            "year        0\n",
            "dtype: int64\n",
            "\n",
            "=== CEK DUPLIKAT ===\n",
            "fact_table: 0\n",
            "item_dim: 0\n"
          ]
        }
      ]
    },
    {
      "cell_type": "markdown",
      "source": [
        "## **Data Cleansing**"
      ],
      "metadata": {
        "id": "NCoGz4qBgzzn"
      }
    },
    {
      "cell_type": "markdown",
      "source": [
        "### **1. Hapus Kolom Tidak Relevan**"
      ],
      "metadata": {
        "id": "FAIl8Vyag3_0"
      }
    },
    {
      "cell_type": "code",
      "source": [
        "# Hapus kolom yang tidak relevan (misal berisi 1 nilai unik)\n",
        "drop_cols_fact = [col for col in fact.columns if fact[col].nunique() == 1]\n",
        "drop_cols_item = [col for col in item.columns if item[col].nunique() == 1]\n",
        "fact.drop(columns=drop_cols_fact, inplace=True)\n",
        "item.drop(columns=drop_cols_item, inplace=True)\n",
        "print(\"\\nKolom dihapus (fact):\", drop_cols_fact)\n",
        "print(\"Kolom dihapus (item):\", drop_cols_item)"
      ],
      "metadata": {
        "colab": {
          "base_uri": "https://localhost:8080/"
        },
        "id": "mk5HgMIUg-u9",
        "outputId": "cae5eaa3-6ef8-4dea-aa06-080389c6dad5"
      },
      "execution_count": null,
      "outputs": [
        {
          "output_type": "stream",
          "name": "stdout",
          "text": [
            "\n",
            "Kolom dihapus (fact): []\n",
            "Kolom dihapus (item): []\n"
          ]
        }
      ]
    },
    {
      "cell_type": "markdown",
      "source": [
        "### **2. Perbaiki Format Data**"
      ],
      "metadata": {
        "id": "9hRKOdoUlRus"
      }
    },
    {
      "cell_type": "code",
      "source": [
        "# Pastikan format data numerik dan tanggal\n",
        "num_cols = ['quantity', 'unit_price', 'total_price']\n",
        "for col in num_cols:\n",
        "    if col in fact.columns:\n",
        "        fact[col] = pd.to_numeric(fact[col], errors='coerce')\n",
        "\n",
        "if 'date' in fact.columns:\n",
        "    fact['date'] = pd.to_datetime(fact['date'], errors='coerce')\n",
        "\n",
        "print(\"\\nTipe data setelah konversi:\")\n",
        "print(fact.dtypes)"
      ],
      "metadata": {
        "colab": {
          "base_uri": "https://localhost:8080/"
        },
        "id": "L8fgktbmljNK",
        "outputId": "2b50761d-9b67-439d-bd1d-42088e622ac4"
      },
      "execution_count": null,
      "outputs": [
        {
          "output_type": "stream",
          "name": "stdout",
          "text": [
            "\n",
            "Tipe data setelah konversi:\n",
            "payment_key       object\n",
            "coustomer_key     object\n",
            "time_key          object\n",
            "item_key          object\n",
            "store_key         object\n",
            "quantity           int64\n",
            "unit              object\n",
            "unit_price       float64\n",
            "total_price      float64\n",
            "dtype: object\n"
          ]
        }
      ]
    },
    {
      "cell_type": "markdown",
      "source": [
        "### **3. Tangani Nilai Kosong**"
      ],
      "metadata": {
        "id": "WIQ5qxV2ls5_"
      }
    },
    {
      "cell_type": "code",
      "source": [
        "#Tangani nilai kosong\n",
        "print(\"\\nJumlah nilai kosong SEBELUM imputasi:\")\n",
        "print(fact.isnull().sum())\n",
        "\n",
        "for col in num_cols:\n",
        "    if col in fact.columns:\n",
        "        median_val = fact[col].median()\n",
        "        fact[col].fillna(median_val, inplace=True)\n",
        "        print(f\"→ Nilai kosong di '{col}' diganti median: {median_val}\")\n",
        "\n",
        "for col in fact.select_dtypes('object'):\n",
        "    fact[col].fillna(\"Unknown\", inplace=True)\n",
        "for col in item.select_dtypes('object'):\n",
        "    item[col].fillna(\"Unknown\", inplace=True)\n",
        "\n",
        "print(\"\\nJumlah nilai kosong SESUDAH imputasi:\")\n",
        "print(fact.isnull().sum())\n",
        "print(item.isnull().sum())"
      ],
      "metadata": {
        "colab": {
          "base_uri": "https://localhost:8080/"
        },
        "id": "iHY-9O4gmJ13",
        "outputId": "5d3fed90-18cf-49c2-8439-dd2c35d6a5ea"
      },
      "execution_count": null,
      "outputs": [
        {
          "output_type": "stream",
          "name": "stdout",
          "text": [
            "\n",
            "Jumlah nilai kosong SEBELUM imputasi:\n",
            "payment_key         0\n",
            "coustomer_key       0\n",
            "time_key            0\n",
            "item_key            0\n",
            "store_key           0\n",
            "quantity            0\n",
            "unit             3723\n",
            "unit_price          0\n",
            "total_price         0\n",
            "dtype: int64\n",
            "→ Nilai kosong di 'quantity' diganti median: 6.0\n",
            "→ Nilai kosong di 'unit_price' diganti median: 16.0\n",
            "→ Nilai kosong di 'total_price' diganti median: 90.0\n"
          ]
        },
        {
          "output_type": "stream",
          "name": "stderr",
          "text": [
            "/tmp/ipython-input-1106895388.py:8: FutureWarning: A value is trying to be set on a copy of a DataFrame or Series through chained assignment using an inplace method.\n",
            "The behavior will change in pandas 3.0. This inplace method will never work because the intermediate object on which we are setting values always behaves as a copy.\n",
            "\n",
            "For example, when doing 'df[col].method(value, inplace=True)', try using 'df.method({col: value}, inplace=True)' or df[col] = df[col].method(value) instead, to perform the operation inplace on the original object.\n",
            "\n",
            "\n",
            "  fact[col].fillna(median_val, inplace=True)\n",
            "/tmp/ipython-input-1106895388.py:12: FutureWarning: A value is trying to be set on a copy of a DataFrame or Series through chained assignment using an inplace method.\n",
            "The behavior will change in pandas 3.0. This inplace method will never work because the intermediate object on which we are setting values always behaves as a copy.\n",
            "\n",
            "For example, when doing 'df[col].method(value, inplace=True)', try using 'df.method({col: value}, inplace=True)' or df[col] = df[col].method(value) instead, to perform the operation inplace on the original object.\n",
            "\n",
            "\n",
            "  fact[col].fillna(\"Unknown\", inplace=True)\n",
            "/tmp/ipython-input-1106895388.py:14: FutureWarning: A value is trying to be set on a copy of a DataFrame or Series through chained assignment using an inplace method.\n",
            "The behavior will change in pandas 3.0. This inplace method will never work because the intermediate object on which we are setting values always behaves as a copy.\n",
            "\n",
            "For example, when doing 'df[col].method(value, inplace=True)', try using 'df.method({col: value}, inplace=True)' or df[col] = df[col].method(value) instead, to perform the operation inplace on the original object.\n",
            "\n",
            "\n",
            "  item[col].fillna(\"Unknown\", inplace=True)\n"
          ]
        },
        {
          "output_type": "stream",
          "name": "stdout",
          "text": [
            "\n",
            "Jumlah nilai kosong SESUDAH imputasi:\n",
            "payment_key      0\n",
            "coustomer_key    0\n",
            "time_key         0\n",
            "item_key         0\n",
            "store_key        0\n",
            "quantity         0\n",
            "unit             0\n",
            "unit_price       0\n",
            "total_price      0\n",
            "dtype: int64\n",
            "time_key    0\n",
            "date        0\n",
            "hour        0\n",
            "day         0\n",
            "week        0\n",
            "month       0\n",
            "quarter     0\n",
            "year        0\n",
            "dtype: int64\n"
          ]
        }
      ]
    },
    {
      "cell_type": "markdown",
      "source": [
        "### **4. Hapus Duplikat**"
      ],
      "metadata": {
        "id": "-VX3Ra9slyQl"
      }
    },
    {
      "cell_type": "code",
      "source": [
        "# Hapus duplikat\n",
        "dup_fact = fact.duplicated().sum()\n",
        "dup_item = item.duplicated().sum()\n",
        "fact.drop_duplicates(inplace=True)\n",
        "item.drop_duplicates(inplace=True)\n",
        "print(f\"\\nDuplikat dihapus: fact={dup_fact}, item={dup_item}\")\n",
        "print(\"Ukuran fact_table sekarang:\", fact.shape)\n",
        "print(\"Ukuran item_dim sekarang:\", item.shape)"
      ],
      "metadata": {
        "colab": {
          "base_uri": "https://localhost:8080/"
        },
        "id": "zkCzKJERmTCO",
        "outputId": "ecf68756-f239-49c2-a713-75dd6c293004"
      },
      "execution_count": null,
      "outputs": [
        {
          "output_type": "stream",
          "name": "stdout",
          "text": [
            "\n",
            "Duplikat dihapus: fact=0, item=0\n",
            "Ukuran fact_table sekarang: (1000000, 9)\n",
            "Ukuran item_dim sekarang: (99999, 8)\n"
          ]
        }
      ]
    },
    {
      "cell_type": "markdown",
      "source": [
        "### **5. Deteksi & Hapus Outliner (Numerik)**"
      ],
      "metadata": {
        "id": "vgOyBVEDl3-Q"
      }
    },
    {
      "cell_type": "code",
      "source": [
        "# Deteksi & Hapus Outlier\n",
        "print(\"\\nDeteksi Outlier menggunakan metode IQR:\")\n",
        "for col in num_cols:\n",
        "    if col in fact.columns:\n",
        "        Q1 = fact[col].quantile(0.25)\n",
        "        Q3 = fact[col].quantile(0.75)\n",
        "        IQR = Q3 - Q1\n",
        "        lower = Q1 - 1.5 * IQR\n",
        "        upper = Q3 + 1.5 * IQR\n",
        "        outliers = fact[(fact[col] < lower) | (fact[col] > upper)].shape[0]\n",
        "        print(f\"{col}: {outliers} outlier dihapus\")\n",
        "        fact = fact[(fact[col] >= lower) & (fact[col] <= upper)]\n",
        "\n",
        "print(\"\\nUkuran data setelah hapus outlier:\", fact.shape)"
      ],
      "metadata": {
        "colab": {
          "base_uri": "https://localhost:8080/"
        },
        "id": "vFYbdmuHmbId",
        "outputId": "7edabee3-3d1c-464b-f2b0-19c3c84bb9d3"
      },
      "execution_count": null,
      "outputs": [
        {
          "output_type": "stream",
          "name": "stdout",
          "text": [
            "\n",
            "Deteksi Outlier menggunakan metode IQR:\n",
            "quantity: 0 outlier dihapus\n",
            "unit_price: 75823 outlier dihapus\n",
            "total_price: 4523 outlier dihapus\n",
            "\n",
            "Ukuran data setelah hapus outlier: (919654, 9)\n"
          ]
        }
      ]
    },
    {
      "cell_type": "markdown",
      "source": [
        "### **6. Validasi Data**"
      ],
      "metadata": {
        "id": "bwQhzdkBmCCl"
      }
    },
    {
      "cell_type": "code",
      "source": [
        "# Validasi Akhir Data\n",
        "print(\"\\n=== VALIDASI AKHIR ===\")\n",
        "print(\"Nilai kosong:\\n\", fact.isnull().sum())\n",
        "print(\"\\nNilai negatif:\")\n",
        "for col in ['quantity', 'unit_price', 'total_price']:\n",
        "    if col in fact.columns:\n",
        "        neg_count = (fact[col] < 0).sum()\n",
        "        print(f\"{col}: {neg_count}\")\n",
        "\n",
        "print(\"\\nStatistik ringkas setelah pembersihan:\")\n",
        "print(fact.describe())"
      ],
      "metadata": {
        "colab": {
          "base_uri": "https://localhost:8080/"
        },
        "id": "ij1KvmCvmjS6",
        "outputId": "3bb17370-cc96-40ba-e123-a40e6dfb758a"
      },
      "execution_count": null,
      "outputs": [
        {
          "output_type": "stream",
          "name": "stdout",
          "text": [
            "\n",
            "=== VALIDASI AKHIR ===\n",
            "Nilai kosong:\n",
            " payment_key      0\n",
            "coustomer_key    0\n",
            "time_key         0\n",
            "item_key         0\n",
            "store_key        0\n",
            "quantity         0\n",
            "unit             0\n",
            "unit_price       0\n",
            "total_price      0\n",
            "dtype: int64\n",
            "\n",
            "Nilai negatif:\n",
            "quantity: 0\n",
            "unit_price: 0\n",
            "total_price: 0\n",
            "\n",
            "Statistik ringkas setelah pembersihan:\n",
            "            quantity     unit_price    total_price\n",
            "count  919654.000000  919654.000000  919654.000000\n",
            "mean        5.975665      15.494735      92.321900\n",
            "std         3.151515       4.855186      57.882677\n",
            "min         1.000000       6.000000       6.000000\n",
            "25%         3.000000      13.000000      45.000000\n",
            "50%         6.000000      16.000000      84.000000\n",
            "75%         9.000000      18.000000     135.000000\n",
            "max        11.000000      29.000000     264.000000\n"
          ]
        }
      ]
    },
    {
      "cell_type": "markdown",
      "source": [
        "## **Download Data Clean**"
      ],
      "metadata": {
        "id": "om1NXm1yoGly"
      }
    },
    {
      "cell_type": "code",
      "source": [
        "# Simpan hasil pembersihan\n",
        "fact.to_csv(\"cleaned_fact_table.csv\", index=False)\n",
        "item.to_csv(\"cleaned_item_dim.csv\", index=False)\n",
        "\n",
        "print(\"✅ Dataset bersih berhasil disimpan!\")\n",
        "\n",
        "# Jika di Google Colab:\n",
        "from google.colab import files\n",
        "files.download(\"cleaned_fact_table.csv\")\n",
        "files.download(\"cleaned_item_dim.csv\")"
      ],
      "metadata": {
        "colab": {
          "base_uri": "https://localhost:8080/",
          "height": 34
        },
        "id": "Fxw67Um8oPVZ",
        "outputId": "0d17911a-c603-4b57-bc5b-59fbf08a8925"
      },
      "execution_count": null,
      "outputs": [
        {
          "output_type": "stream",
          "name": "stdout",
          "text": [
            "✅ Dataset bersih berhasil disimpan!\n"
          ]
        },
        {
          "output_type": "display_data",
          "data": {
            "text/plain": [
              "<IPython.core.display.Javascript object>"
            ],
            "application/javascript": [
              "\n",
              "    async function download(id, filename, size) {\n",
              "      if (!google.colab.kernel.accessAllowed) {\n",
              "        return;\n",
              "      }\n",
              "      const div = document.createElement('div');\n",
              "      const label = document.createElement('label');\n",
              "      label.textContent = `Downloading \"${filename}\": `;\n",
              "      div.appendChild(label);\n",
              "      const progress = document.createElement('progress');\n",
              "      progress.max = size;\n",
              "      div.appendChild(progress);\n",
              "      document.body.appendChild(div);\n",
              "\n",
              "      const buffers = [];\n",
              "      let downloaded = 0;\n",
              "\n",
              "      const channel = await google.colab.kernel.comms.open(id);\n",
              "      // Send a message to notify the kernel that we're ready.\n",
              "      channel.send({})\n",
              "\n",
              "      for await (const message of channel.messages) {\n",
              "        // Send a message to notify the kernel that we're ready.\n",
              "        channel.send({})\n",
              "        if (message.buffers) {\n",
              "          for (const buffer of message.buffers) {\n",
              "            buffers.push(buffer);\n",
              "            downloaded += buffer.byteLength;\n",
              "            progress.value = downloaded;\n",
              "          }\n",
              "        }\n",
              "      }\n",
              "      const blob = new Blob(buffers, {type: 'application/binary'});\n",
              "      const a = document.createElement('a');\n",
              "      a.href = window.URL.createObjectURL(blob);\n",
              "      a.download = filename;\n",
              "      div.appendChild(a);\n",
              "      a.click();\n",
              "      div.remove();\n",
              "    }\n",
              "  "
            ]
          },
          "metadata": {}
        },
        {
          "output_type": "display_data",
          "data": {
            "text/plain": [
              "<IPython.core.display.Javascript object>"
            ],
            "application/javascript": [
              "download(\"download_5eedfe78-a4ee-47d4-a9d4-d35c9777e138\", \"cleaned_fact_table.csv\", 47736077)"
            ]
          },
          "metadata": {}
        },
        {
          "output_type": "display_data",
          "data": {
            "text/plain": [
              "<IPython.core.display.Javascript object>"
            ],
            "application/javascript": [
              "\n",
              "    async function download(id, filename, size) {\n",
              "      if (!google.colab.kernel.accessAllowed) {\n",
              "        return;\n",
              "      }\n",
              "      const div = document.createElement('div');\n",
              "      const label = document.createElement('label');\n",
              "      label.textContent = `Downloading \"${filename}\": `;\n",
              "      div.appendChild(label);\n",
              "      const progress = document.createElement('progress');\n",
              "      progress.max = size;\n",
              "      div.appendChild(progress);\n",
              "      document.body.appendChild(div);\n",
              "\n",
              "      const buffers = [];\n",
              "      let downloaded = 0;\n",
              "\n",
              "      const channel = await google.colab.kernel.comms.open(id);\n",
              "      // Send a message to notify the kernel that we're ready.\n",
              "      channel.send({})\n",
              "\n",
              "      for await (const message of channel.messages) {\n",
              "        // Send a message to notify the kernel that we're ready.\n",
              "        channel.send({})\n",
              "        if (message.buffers) {\n",
              "          for (const buffer of message.buffers) {\n",
              "            buffers.push(buffer);\n",
              "            downloaded += buffer.byteLength;\n",
              "            progress.value = downloaded;\n",
              "          }\n",
              "        }\n",
              "      }\n",
              "      const blob = new Blob(buffers, {type: 'application/binary'});\n",
              "      const a = document.createElement('a');\n",
              "      a.href = window.URL.createObjectURL(blob);\n",
              "      a.download = filename;\n",
              "      div.appendChild(a);\n",
              "      a.click();\n",
              "      div.remove();\n",
              "    }\n",
              "  "
            ]
          },
          "metadata": {}
        },
        {
          "output_type": "display_data",
          "data": {
            "text/plain": [
              "<IPython.core.display.Javascript object>"
            ],
            "application/javascript": [
              "download(\"download_cc126f9c-e18a-49d8-947c-e2ae6dbb634b\", \"cleaned_item_dim.csv\", 4944325)"
            ]
          },
          "metadata": {}
        }
      ]
    },
    {
      "cell_type": "markdown",
      "source": [
        "## **Merge Table**"
      ],
      "metadata": {
        "id": "KPNsnFA7p4QU"
      }
    },
    {
      "cell_type": "code",
      "source": [
        "# Baca ulang dataset bersih\n",
        "fact_clean = pd.read_csv(\"cleaned_fact_table.csv\")\n",
        "item_clean = pd.read_csv(\"cleaned_item_dim.csv\")\n",
        "\n",
        "# Merge berdasarkan time_key\n",
        "merged_df = fact_clean.merge(item_clean, on=\"time_key\", how=\"inner\")\n",
        "print(\"Ukuran dataset gabungan:\", merged_df.shape)\n",
        "display(merged_df.head())"
      ],
      "metadata": {
        "colab": {
          "base_uri": "https://localhost:8080/",
          "height": 504
        },
        "id": "6y4FbInhp4qc",
        "outputId": "350f55c6-1f80-4167-e079-c3f4b8f53d51"
      },
      "execution_count": null,
      "outputs": [
        {
          "output_type": "stream",
          "name": "stdout",
          "text": [
            "Ukuran dataset gabungan: (919654, 16)\n"
          ]
        },
        {
          "output_type": "display_data",
          "data": {
            "text/plain": [
              "  payment_key coustomer_key time_key item_key store_key  quantity     unit  \\\n",
              "0        P022       C008967  T041209   I00248    S00595         1    rolls   \n",
              "1        P030       C007261   T03633   I00195    S00496         8       ct   \n",
              "2        P032       C007048  T084631   I00131     S0086         8       ct   \n",
              "3        P014       C006430  T071276   I00050    S00488         8     cans   \n",
              "4        P006       C007574  T026950   I00058    S00328         5  bottles   \n",
              "\n",
              "   unit_price  total_price              date  hour  day      week  month  \\\n",
              "0        26.0         26.0  11-06-2018 19:08    19   11  2nd Week      6   \n",
              "1        12.5        100.0  19-11-2016 08:19     8   19  3rd Week     11   \n",
              "2        14.0        112.0  01-02-2020 06:00     6    1  1st Week      2   \n",
              "3         8.0         64.0  15-07-2014 02:58     2   15  3rd Week      7   \n",
              "4        22.0        110.0  25-06-2019 15:36    15   25  4th Week      6   \n",
              "\n",
              "  quarter  year  \n",
              "0      Q2  2018  \n",
              "1      Q4  2016  \n",
              "2      Q1  2020  \n",
              "3      Q3  2014  \n",
              "4      Q2  2019  "
            ],
            "text/html": [
              "\n",
              "  <div id=\"df-6e4351ee-ea7d-4896-a99b-b16063bba70d\" class=\"colab-df-container\">\n",
              "    <div>\n",
              "<style scoped>\n",
              "    .dataframe tbody tr th:only-of-type {\n",
              "        vertical-align: middle;\n",
              "    }\n",
              "\n",
              "    .dataframe tbody tr th {\n",
              "        vertical-align: top;\n",
              "    }\n",
              "\n",
              "    .dataframe thead th {\n",
              "        text-align: right;\n",
              "    }\n",
              "</style>\n",
              "<table border=\"1\" class=\"dataframe\">\n",
              "  <thead>\n",
              "    <tr style=\"text-align: right;\">\n",
              "      <th></th>\n",
              "      <th>payment_key</th>\n",
              "      <th>coustomer_key</th>\n",
              "      <th>time_key</th>\n",
              "      <th>item_key</th>\n",
              "      <th>store_key</th>\n",
              "      <th>quantity</th>\n",
              "      <th>unit</th>\n",
              "      <th>unit_price</th>\n",
              "      <th>total_price</th>\n",
              "      <th>date</th>\n",
              "      <th>hour</th>\n",
              "      <th>day</th>\n",
              "      <th>week</th>\n",
              "      <th>month</th>\n",
              "      <th>quarter</th>\n",
              "      <th>year</th>\n",
              "    </tr>\n",
              "  </thead>\n",
              "  <tbody>\n",
              "    <tr>\n",
              "      <th>0</th>\n",
              "      <td>P022</td>\n",
              "      <td>C008967</td>\n",
              "      <td>T041209</td>\n",
              "      <td>I00248</td>\n",
              "      <td>S00595</td>\n",
              "      <td>1</td>\n",
              "      <td>rolls</td>\n",
              "      <td>26.0</td>\n",
              "      <td>26.0</td>\n",
              "      <td>11-06-2018 19:08</td>\n",
              "      <td>19</td>\n",
              "      <td>11</td>\n",
              "      <td>2nd Week</td>\n",
              "      <td>6</td>\n",
              "      <td>Q2</td>\n",
              "      <td>2018</td>\n",
              "    </tr>\n",
              "    <tr>\n",
              "      <th>1</th>\n",
              "      <td>P030</td>\n",
              "      <td>C007261</td>\n",
              "      <td>T03633</td>\n",
              "      <td>I00195</td>\n",
              "      <td>S00496</td>\n",
              "      <td>8</td>\n",
              "      <td>ct</td>\n",
              "      <td>12.5</td>\n",
              "      <td>100.0</td>\n",
              "      <td>19-11-2016 08:19</td>\n",
              "      <td>8</td>\n",
              "      <td>19</td>\n",
              "      <td>3rd Week</td>\n",
              "      <td>11</td>\n",
              "      <td>Q4</td>\n",
              "      <td>2016</td>\n",
              "    </tr>\n",
              "    <tr>\n",
              "      <th>2</th>\n",
              "      <td>P032</td>\n",
              "      <td>C007048</td>\n",
              "      <td>T084631</td>\n",
              "      <td>I00131</td>\n",
              "      <td>S0086</td>\n",
              "      <td>8</td>\n",
              "      <td>ct</td>\n",
              "      <td>14.0</td>\n",
              "      <td>112.0</td>\n",
              "      <td>01-02-2020 06:00</td>\n",
              "      <td>6</td>\n",
              "      <td>1</td>\n",
              "      <td>1st Week</td>\n",
              "      <td>2</td>\n",
              "      <td>Q1</td>\n",
              "      <td>2020</td>\n",
              "    </tr>\n",
              "    <tr>\n",
              "      <th>3</th>\n",
              "      <td>P014</td>\n",
              "      <td>C006430</td>\n",
              "      <td>T071276</td>\n",
              "      <td>I00050</td>\n",
              "      <td>S00488</td>\n",
              "      <td>8</td>\n",
              "      <td>cans</td>\n",
              "      <td>8.0</td>\n",
              "      <td>64.0</td>\n",
              "      <td>15-07-2014 02:58</td>\n",
              "      <td>2</td>\n",
              "      <td>15</td>\n",
              "      <td>3rd Week</td>\n",
              "      <td>7</td>\n",
              "      <td>Q3</td>\n",
              "      <td>2014</td>\n",
              "    </tr>\n",
              "    <tr>\n",
              "      <th>4</th>\n",
              "      <td>P006</td>\n",
              "      <td>C007574</td>\n",
              "      <td>T026950</td>\n",
              "      <td>I00058</td>\n",
              "      <td>S00328</td>\n",
              "      <td>5</td>\n",
              "      <td>bottles</td>\n",
              "      <td>22.0</td>\n",
              "      <td>110.0</td>\n",
              "      <td>25-06-2019 15:36</td>\n",
              "      <td>15</td>\n",
              "      <td>25</td>\n",
              "      <td>4th Week</td>\n",
              "      <td>6</td>\n",
              "      <td>Q2</td>\n",
              "      <td>2019</td>\n",
              "    </tr>\n",
              "  </tbody>\n",
              "</table>\n",
              "</div>\n",
              "    <div class=\"colab-df-buttons\">\n",
              "\n",
              "  <div class=\"colab-df-container\">\n",
              "    <button class=\"colab-df-convert\" onclick=\"convertToInteractive('df-6e4351ee-ea7d-4896-a99b-b16063bba70d')\"\n",
              "            title=\"Convert this dataframe to an interactive table.\"\n",
              "            style=\"display:none;\">\n",
              "\n",
              "  <svg xmlns=\"http://www.w3.org/2000/svg\" height=\"24px\" viewBox=\"0 -960 960 960\">\n",
              "    <path d=\"M120-120v-720h720v720H120Zm60-500h600v-160H180v160Zm220 220h160v-160H400v160Zm0 220h160v-160H400v160ZM180-400h160v-160H180v160Zm440 0h160v-160H620v160ZM180-180h160v-160H180v160Zm440 0h160v-160H620v160Z\"/>\n",
              "  </svg>\n",
              "    </button>\n",
              "\n",
              "  <style>\n",
              "    .colab-df-container {\n",
              "      display:flex;\n",
              "      gap: 12px;\n",
              "    }\n",
              "\n",
              "    .colab-df-convert {\n",
              "      background-color: #E8F0FE;\n",
              "      border: none;\n",
              "      border-radius: 50%;\n",
              "      cursor: pointer;\n",
              "      display: none;\n",
              "      fill: #1967D2;\n",
              "      height: 32px;\n",
              "      padding: 0 0 0 0;\n",
              "      width: 32px;\n",
              "    }\n",
              "\n",
              "    .colab-df-convert:hover {\n",
              "      background-color: #E2EBFA;\n",
              "      box-shadow: 0px 1px 2px rgba(60, 64, 67, 0.3), 0px 1px 3px 1px rgba(60, 64, 67, 0.15);\n",
              "      fill: #174EA6;\n",
              "    }\n",
              "\n",
              "    .colab-df-buttons div {\n",
              "      margin-bottom: 4px;\n",
              "    }\n",
              "\n",
              "    [theme=dark] .colab-df-convert {\n",
              "      background-color: #3B4455;\n",
              "      fill: #D2E3FC;\n",
              "    }\n",
              "\n",
              "    [theme=dark] .colab-df-convert:hover {\n",
              "      background-color: #434B5C;\n",
              "      box-shadow: 0px 1px 3px 1px rgba(0, 0, 0, 0.15);\n",
              "      filter: drop-shadow(0px 1px 2px rgba(0, 0, 0, 0.3));\n",
              "      fill: #FFFFFF;\n",
              "    }\n",
              "  </style>\n",
              "\n",
              "    <script>\n",
              "      const buttonEl =\n",
              "        document.querySelector('#df-6e4351ee-ea7d-4896-a99b-b16063bba70d button.colab-df-convert');\n",
              "      buttonEl.style.display =\n",
              "        google.colab.kernel.accessAllowed ? 'block' : 'none';\n",
              "\n",
              "      async function convertToInteractive(key) {\n",
              "        const element = document.querySelector('#df-6e4351ee-ea7d-4896-a99b-b16063bba70d');\n",
              "        const dataTable =\n",
              "          await google.colab.kernel.invokeFunction('convertToInteractive',\n",
              "                                                    [key], {});\n",
              "        if (!dataTable) return;\n",
              "\n",
              "        const docLinkHtml = 'Like what you see? Visit the ' +\n",
              "          '<a target=\"_blank\" href=https://colab.research.google.com/notebooks/data_table.ipynb>data table notebook</a>'\n",
              "          + ' to learn more about interactive tables.';\n",
              "        element.innerHTML = '';\n",
              "        dataTable['output_type'] = 'display_data';\n",
              "        await google.colab.output.renderOutput(dataTable, element);\n",
              "        const docLink = document.createElement('div');\n",
              "        docLink.innerHTML = docLinkHtml;\n",
              "        element.appendChild(docLink);\n",
              "      }\n",
              "    </script>\n",
              "  </div>\n",
              "\n",
              "\n",
              "    <div id=\"df-dc69b3c0-5a0f-4f41-b50d-244e2d6087ef\">\n",
              "      <button class=\"colab-df-quickchart\" onclick=\"quickchart('df-dc69b3c0-5a0f-4f41-b50d-244e2d6087ef')\"\n",
              "                title=\"Suggest charts\"\n",
              "                style=\"display:none;\">\n",
              "\n",
              "<svg xmlns=\"http://www.w3.org/2000/svg\" height=\"24px\"viewBox=\"0 0 24 24\"\n",
              "     width=\"24px\">\n",
              "    <g>\n",
              "        <path d=\"M19 3H5c-1.1 0-2 .9-2 2v14c0 1.1.9 2 2 2h14c1.1 0 2-.9 2-2V5c0-1.1-.9-2-2-2zM9 17H7v-7h2v7zm4 0h-2V7h2v10zm4 0h-2v-4h2v4z\"/>\n",
              "    </g>\n",
              "</svg>\n",
              "      </button>\n",
              "\n",
              "<style>\n",
              "  .colab-df-quickchart {\n",
              "      --bg-color: #E8F0FE;\n",
              "      --fill-color: #1967D2;\n",
              "      --hover-bg-color: #E2EBFA;\n",
              "      --hover-fill-color: #174EA6;\n",
              "      --disabled-fill-color: #AAA;\n",
              "      --disabled-bg-color: #DDD;\n",
              "  }\n",
              "\n",
              "  [theme=dark] .colab-df-quickchart {\n",
              "      --bg-color: #3B4455;\n",
              "      --fill-color: #D2E3FC;\n",
              "      --hover-bg-color: #434B5C;\n",
              "      --hover-fill-color: #FFFFFF;\n",
              "      --disabled-bg-color: #3B4455;\n",
              "      --disabled-fill-color: #666;\n",
              "  }\n",
              "\n",
              "  .colab-df-quickchart {\n",
              "    background-color: var(--bg-color);\n",
              "    border: none;\n",
              "    border-radius: 50%;\n",
              "    cursor: pointer;\n",
              "    display: none;\n",
              "    fill: var(--fill-color);\n",
              "    height: 32px;\n",
              "    padding: 0;\n",
              "    width: 32px;\n",
              "  }\n",
              "\n",
              "  .colab-df-quickchart:hover {\n",
              "    background-color: var(--hover-bg-color);\n",
              "    box-shadow: 0 1px 2px rgba(60, 64, 67, 0.3), 0 1px 3px 1px rgba(60, 64, 67, 0.15);\n",
              "    fill: var(--button-hover-fill-color);\n",
              "  }\n",
              "\n",
              "  .colab-df-quickchart-complete:disabled,\n",
              "  .colab-df-quickchart-complete:disabled:hover {\n",
              "    background-color: var(--disabled-bg-color);\n",
              "    fill: var(--disabled-fill-color);\n",
              "    box-shadow: none;\n",
              "  }\n",
              "\n",
              "  .colab-df-spinner {\n",
              "    border: 2px solid var(--fill-color);\n",
              "    border-color: transparent;\n",
              "    border-bottom-color: var(--fill-color);\n",
              "    animation:\n",
              "      spin 1s steps(1) infinite;\n",
              "  }\n",
              "\n",
              "  @keyframes spin {\n",
              "    0% {\n",
              "      border-color: transparent;\n",
              "      border-bottom-color: var(--fill-color);\n",
              "      border-left-color: var(--fill-color);\n",
              "    }\n",
              "    20% {\n",
              "      border-color: transparent;\n",
              "      border-left-color: var(--fill-color);\n",
              "      border-top-color: var(--fill-color);\n",
              "    }\n",
              "    30% {\n",
              "      border-color: transparent;\n",
              "      border-left-color: var(--fill-color);\n",
              "      border-top-color: var(--fill-color);\n",
              "      border-right-color: var(--fill-color);\n",
              "    }\n",
              "    40% {\n",
              "      border-color: transparent;\n",
              "      border-right-color: var(--fill-color);\n",
              "      border-top-color: var(--fill-color);\n",
              "    }\n",
              "    60% {\n",
              "      border-color: transparent;\n",
              "      border-right-color: var(--fill-color);\n",
              "    }\n",
              "    80% {\n",
              "      border-color: transparent;\n",
              "      border-right-color: var(--fill-color);\n",
              "      border-bottom-color: var(--fill-color);\n",
              "    }\n",
              "    90% {\n",
              "      border-color: transparent;\n",
              "      border-bottom-color: var(--fill-color);\n",
              "    }\n",
              "  }\n",
              "</style>\n",
              "\n",
              "      <script>\n",
              "        async function quickchart(key) {\n",
              "          const quickchartButtonEl =\n",
              "            document.querySelector('#' + key + ' button');\n",
              "          quickchartButtonEl.disabled = true;  // To prevent multiple clicks.\n",
              "          quickchartButtonEl.classList.add('colab-df-spinner');\n",
              "          try {\n",
              "            const charts = await google.colab.kernel.invokeFunction(\n",
              "                'suggestCharts', [key], {});\n",
              "          } catch (error) {\n",
              "            console.error('Error during call to suggestCharts:', error);\n",
              "          }\n",
              "          quickchartButtonEl.classList.remove('colab-df-spinner');\n",
              "          quickchartButtonEl.classList.add('colab-df-quickchart-complete');\n",
              "        }\n",
              "        (() => {\n",
              "          let quickchartButtonEl =\n",
              "            document.querySelector('#df-dc69b3c0-5a0f-4f41-b50d-244e2d6087ef button');\n",
              "          quickchartButtonEl.style.display =\n",
              "            google.colab.kernel.accessAllowed ? 'block' : 'none';\n",
              "        })();\n",
              "      </script>\n",
              "    </div>\n",
              "\n",
              "    </div>\n",
              "  </div>\n"
            ],
            "application/vnd.google.colaboratory.intrinsic+json": {
              "type": "dataframe",
              "summary": "{\n  \"name\": \"display(merged_df\",\n  \"rows\": 5,\n  \"fields\": [\n    {\n      \"column\": \"payment_key\",\n      \"properties\": {\n        \"dtype\": \"string\",\n        \"num_unique_values\": 5,\n        \"samples\": [\n          \"P030\",\n          \"P006\",\n          \"P032\"\n        ],\n        \"semantic_type\": \"\",\n        \"description\": \"\"\n      }\n    },\n    {\n      \"column\": \"coustomer_key\",\n      \"properties\": {\n        \"dtype\": \"string\",\n        \"num_unique_values\": 5,\n        \"samples\": [\n          \"C007261\",\n          \"C007574\",\n          \"C007048\"\n        ],\n        \"semantic_type\": \"\",\n        \"description\": \"\"\n      }\n    },\n    {\n      \"column\": \"time_key\",\n      \"properties\": {\n        \"dtype\": \"string\",\n        \"num_unique_values\": 5,\n        \"samples\": [\n          \"T03633\",\n          \"T026950\",\n          \"T084631\"\n        ],\n        \"semantic_type\": \"\",\n        \"description\": \"\"\n      }\n    },\n    {\n      \"column\": \"item_key\",\n      \"properties\": {\n        \"dtype\": \"string\",\n        \"num_unique_values\": 5,\n        \"samples\": [\n          \"I00195\",\n          \"I00058\",\n          \"I00131\"\n        ],\n        \"semantic_type\": \"\",\n        \"description\": \"\"\n      }\n    },\n    {\n      \"column\": \"store_key\",\n      \"properties\": {\n        \"dtype\": \"string\",\n        \"num_unique_values\": 5,\n        \"samples\": [\n          \"S00496\",\n          \"S00328\",\n          \"S0086\"\n        ],\n        \"semantic_type\": \"\",\n        \"description\": \"\"\n      }\n    },\n    {\n      \"column\": \"quantity\",\n      \"properties\": {\n        \"dtype\": \"number\",\n        \"std\": 3,\n        \"min\": 1,\n        \"max\": 8,\n        \"num_unique_values\": 3,\n        \"samples\": [\n          1,\n          8,\n          5\n        ],\n        \"semantic_type\": \"\",\n        \"description\": \"\"\n      }\n    },\n    {\n      \"column\": \"unit\",\n      \"properties\": {\n        \"dtype\": \"string\",\n        \"num_unique_values\": 4,\n        \"samples\": [\n          \"ct\",\n          \"bottles\",\n          \"rolls\"\n        ],\n        \"semantic_type\": \"\",\n        \"description\": \"\"\n      }\n    },\n    {\n      \"column\": \"unit_price\",\n      \"properties\": {\n        \"dtype\": \"number\",\n        \"std\": 7.33143914930759,\n        \"min\": 8.0,\n        \"max\": 26.0,\n        \"num_unique_values\": 5,\n        \"samples\": [\n          12.5,\n          22.0,\n          14.0\n        ],\n        \"semantic_type\": \"\",\n        \"description\": \"\"\n      }\n    },\n    {\n      \"column\": \"total_price\",\n      \"properties\": {\n        \"dtype\": \"number\",\n        \"std\": 36.97025831665232,\n        \"min\": 26.0,\n        \"max\": 112.0,\n        \"num_unique_values\": 5,\n        \"samples\": [\n          100.0,\n          110.0,\n          112.0\n        ],\n        \"semantic_type\": \"\",\n        \"description\": \"\"\n      }\n    },\n    {\n      \"column\": \"date\",\n      \"properties\": {\n        \"dtype\": \"string\",\n        \"num_unique_values\": 5,\n        \"samples\": [\n          \"19-11-2016 08:19\",\n          \"25-06-2019 15:36\",\n          \"01-02-2020 06:00\"\n        ],\n        \"semantic_type\": \"\",\n        \"description\": \"\"\n      }\n    },\n    {\n      \"column\": \"hour\",\n      \"properties\": {\n        \"dtype\": \"number\",\n        \"std\": 6,\n        \"min\": 2,\n        \"max\": 19,\n        \"num_unique_values\": 5,\n        \"samples\": [\n          8,\n          15,\n          6\n        ],\n        \"semantic_type\": \"\",\n        \"description\": \"\"\n      }\n    },\n    {\n      \"column\": \"day\",\n      \"properties\": {\n        \"dtype\": \"number\",\n        \"std\": 9,\n        \"min\": 1,\n        \"max\": 25,\n        \"num_unique_values\": 5,\n        \"samples\": [\n          19,\n          25,\n          1\n        ],\n        \"semantic_type\": \"\",\n        \"description\": \"\"\n      }\n    },\n    {\n      \"column\": \"week\",\n      \"properties\": {\n        \"dtype\": \"string\",\n        \"num_unique_values\": 4,\n        \"samples\": [\n          \"3rd Week\",\n          \"4th Week\",\n          \"2nd Week\"\n        ],\n        \"semantic_type\": \"\",\n        \"description\": \"\"\n      }\n    },\n    {\n      \"column\": \"month\",\n      \"properties\": {\n        \"dtype\": \"number\",\n        \"std\": 3,\n        \"min\": 2,\n        \"max\": 11,\n        \"num_unique_values\": 4,\n        \"samples\": [\n          11,\n          7,\n          6\n        ],\n        \"semantic_type\": \"\",\n        \"description\": \"\"\n      }\n    },\n    {\n      \"column\": \"quarter\",\n      \"properties\": {\n        \"dtype\": \"string\",\n        \"num_unique_values\": 4,\n        \"samples\": [\n          \"Q4\",\n          \"Q3\",\n          \"Q2\"\n        ],\n        \"semantic_type\": \"\",\n        \"description\": \"\"\n      }\n    },\n    {\n      \"column\": \"year\",\n      \"properties\": {\n        \"dtype\": \"number\",\n        \"std\": 2,\n        \"min\": 2014,\n        \"max\": 2020,\n        \"num_unique_values\": 5,\n        \"samples\": [\n          2016,\n          2019,\n          2020\n        ],\n        \"semantic_type\": \"\",\n        \"description\": \"\"\n      }\n    }\n  ]\n}"
            }
          },
          "metadata": {}
        }
      ]
    },
    {
      "cell_type": "markdown",
      "source": [
        "## **Comparative Analysis**"
      ],
      "metadata": {
        "id": "5n2baBRdqhNS"
      }
    },
    {
      "cell_type": "markdown",
      "source": [
        "### **1. Distribusi Kuantitas Dan Harga**"
      ],
      "metadata": {
        "id": "0gCLbVa8sh-J"
      }
    },
    {
      "cell_type": "code",
      "source": [
        "sns.histplot(merged_df['quantity'], kde=True)\n",
        "plt.title(\"Distribusi Kuantitas Penjualan\")\n",
        "plt.show()\n",
        "\n",
        "sns.histplot(merged_df['unit_price'], kde=True, color='orange')\n",
        "plt.title(\"Distribusi Harga Satuan Produk\")\n",
        "plt.show()"
      ],
      "metadata": {
        "colab": {
          "base_uri": "https://localhost:8080/",
          "height": 927
        },
        "id": "1KKx-77LqgGz",
        "outputId": "ded5f568-5137-4c5a-d913-a1971b16bb03"
      },
      "execution_count": null,
      "outputs": [
        {
          "output_type": "display_data",
          "data": {
            "text/plain": [
              "<Figure size 640x480 with 1 Axes>"
            ],
            "image/png": "[encoded data removed]"
          },
          "metadata": {}
        },
        {
          "output_type": "display_data",
          "data": {
            "text/plain": [
              "<Figure size 640x480 with 1 Axes>"
            ],
            "image/png": "[encoded data removed]"
          },
          "metadata": {}
        }
      ]
    },
    {
      "cell_type": "markdown",
      "source": [
        "### **2. Hubungan Harga VS Total Penjualan**"
      ],
      "metadata": {
        "id": "ymN_AWp3su5y"
      }
    },
    {
      "cell_type": "code",
      "source": [
        "sns.scatterplot(x='unit_price', y='total_price', data=merged_df)\n",
        "plt.title(\"Hubungan Harga Satuan vs Total Penjualan\")\n",
        "plt.show()"
      ],
      "metadata": {
        "colab": {
          "base_uri": "https://localhost:8080/",
          "height": 472
        },
        "id": "qWIPoRWys45t",
        "outputId": "75fbda04-ae41-4c2d-e9a8-798a3b61799f"
      },
      "execution_count": null,
      "outputs": [
        {
          "output_type": "display_data",
          "data": {
            "text/plain": [
              "<Figure size 640x480 with 1 Axes>"
            ],
            "image/png": "[encoded data removed]"
          },
          "metadata": {}
        }
      ]
    },
    {
      "cell_type": "markdown",
      "source": [
        "### **3. Top 10 Produk Dengan Penjualan Tertinggi**"
      ],
      "metadata": {
        "id": "HzuPQ3Pts-GI"
      }
    },
    {
      "cell_type": "code",
      "source": [
        "top10 = merged_df.groupby('item_key')['total_price'].sum().sort_values(ascending=False).head(10)\n",
        "plt.figure(figsize=(8,5))\n",
        "sns.barplot(x=top10.values, y=top10.index)\n",
        "plt.title(\"Top 10 Produk dengan Total Penjualan Tertinggi\")\n",
        "plt.xlabel(\"Total Penjualan\")\n",
        "plt.ylabel(\"Nama Produk\")\n",
        "plt.show()"
      ],
      "metadata": {
        "colab": {
          "base_uri": "https://localhost:8080/",
          "height": 457
        },
        "id": "cucDeUS0tIK5",
        "outputId": "0ec4477b-4114-4d08-cc0d-6f1347a31724"
      },
      "execution_count": null,
      "outputs": [
        {
          "output_type": "display_data",
          "data": {
            "text/plain": [
              "<Figure size 800x500 with 1 Axes>"
            ],
            "image/png": "[encoded data removed]"
          },
          "metadata": {}
        }
      ]
    },
    {
      "cell_type": "markdown",
      "source": [
        "### **4. Deteksi Outliner**"
      ],
      "metadata": {
        "id": "zH6ymh7atRt0"
      }
    },
    {
      "cell_type": "code",
      "source": [
        "sns.boxplot(x=merged_df['total_price'])\n",
        "plt.title(\"Pemeriksaan Outlier pada Total Penjualan\")\n",
        "plt.show()\n",
        "\n",
        "Q1 = merged_df['total_price'].quantile(0.25)\n",
        "Q3 = merged_df['total_price'].quantile(0.75)\n",
        "IQR = Q3 - Q1\n",
        "merged_df = merged_df[(merged_df['total_price'] >= Q1 - 1.5*IQR) & (merged_df['total_price'] <= Q3 + 1.5*IQR)]"
      ],
      "metadata": {
        "colab": {
          "base_uri": "https://localhost:8080/",
          "height": 472
        },
        "id": "hB-a3428tPqt",
        "outputId": "dbd2e58e-e463-4848-e922-64898f9bf93b"
      },
      "execution_count": null,
      "outputs": [
        {
          "output_type": "display_data",
          "data": {
            "text/plain": [
              "<Figure size 640x480 with 1 Axes>"
            ],
            "image/png": "[encoded data removed]"
          },
          "metadata": {}
        }
      ]
    },
    {
      "cell_type": "markdown",
      "source": [
        "### **5. Korelasi Antar Variabel Numerik**"
      ],
      "metadata": {
        "id": "VchhVQYqwHA9"
      }
    },
    {
      "cell_type": "code",
      "source": [
        "corr = merged_df[['quantity', 'unit_price', 'total_price']].corr()\n",
        "plt.figure(figsize=(5,4))\n",
        "sns.heatmap(corr, annot=True, cmap='coolwarm')\n",
        "plt.title(\"Korelasi Antar Variabel Numerik\")\n",
        "plt.show()"
      ],
      "metadata": {
        "colab": {
          "base_uri": "https://localhost:8080/",
          "height": 391
        },
        "id": "wQX46q9QwCHQ",
        "outputId": "1dfb7739-b214-4a43-ca9d-64885f992b55"
      },
      "execution_count": null,
      "outputs": [
        {
          "output_type": "display_data",
          "data": {
            "text/plain": [
              "<Figure size 500x400 with 2 Axes>"
            ],
            "image/png": "[encoded data removed]"
          },
          "metadata": {}
        }
      ]
    }
  ]
}